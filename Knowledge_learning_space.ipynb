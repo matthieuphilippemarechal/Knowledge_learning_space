{
 "cells": [
  {
   "cell_type": "code",
   "execution_count": 1,
   "id": "a48d3e6d",
   "metadata": {},
   "outputs": [],
   "source": [
    "K_q = lambda K_mathcal , q : [idx for idx,K in enumerate(K_mathcal) if q in K]\n",
    "\n",
    "prob_K_q = lambda K_mathcal, q, prob : sum([prob[idx] for idx in K_q(K_mathcal , q)])"
   ]
  },
  {
   "cell_type": "code",
   "execution_count": 2,
   "id": "fd07b9c8",
   "metadata": {},
   "outputs": [],
   "source": [
    "import numpy as np\n",
    "\n",
    "# Q is the set of items\n",
    "# K_mathcal is the knowledge network\n",
    "# K0 is the set of items that the student understands. We use it for simulations but not for real student.\n",
    "# beta_q is the probability for the student to fail to response item q despite the fact that he manages this item.\n",
    "\n",
    "class knowledge_learning_space:\n",
    "    \n",
    "    def __init__(self,Q,K_mathcal,Xi,beta_q=None,prob_distribution = None,K0=None,student_name = None):\n",
    "\n",
    "        \n",
    "        if student_name != None:\n",
    "            self.student_name = student_name\n",
    "        \n",
    "        if (beta_q == None) and (K0!= None):\n",
    "            self.beta_q = {q : 0.0 for q in K0}\n",
    "        else:    \n",
    "            self.beta_q = beta_q\n",
    "        \n",
    "        self.K0 = K0\n",
    "        self.Xi = Xi\n",
    "        self.Q = Q\n",
    "        self.K_mathcal = K_mathcal\n",
    "        n_K = len(K_mathcal)\n",
    "        \n",
    "        if prob_distribution == None:\n",
    "            \n",
    "            self.prob_distribution =[1/n_K for K in K_mathcal] \n",
    "            \n",
    "        else:\n",
    "            \n",
    "            self.prob_distribution = prob_distribution\n",
    "            \n",
    "        self.prob_distribution_items = {q : prob_K_q(K_mathcal, q,self.prob_distribution) for q in self.Q}    \n",
    "        self.min_half = min([np.abs(p - 0.5) for p in self.prob_distribution_items.values()])    \n",
    "        self.distance_half = [q for q in self.Q if np.abs(self.prob_distribution_items[q]  -0.5 ) \\\n",
    "                              == self.min_half]\n",
    "        \n",
    "        self.responded_items = {q : [] for q in Q}\n",
    "        \n",
    "        idx_next_item = np.random.randint(0,len(self.distance_half))\n",
    "        \n",
    "        self.next_item = self.distance_half[idx_next_item]\n",
    "        \n",
    "    def simulation(self):\n",
    "        \n",
    "        if self.K0 == None:\n",
    "            raise NameError('No se puede simular sin conocer K0')\n",
    "        \n",
    "        q = self.next_item\n",
    "        r = int((q in self.K0) and (np.random.rand() <= 1 - self.beta_q[q]))\n",
    "        self.responded_items[q].append(r)\n",
    "        \n",
    "        for idx,K in enumerate(self.K_mathcal):\n",
    "            \n",
    "            if int(q in K) == r:\n",
    "                \n",
    "                self.prob_distribution[idx] = self.Xi[(q,r)] * self.prob_distribution[idx]\n",
    "                \n",
    "        S = np.sum(self.prob_distribution)        \n",
    "                \n",
    "        for idx in range(len(self.K_mathcal)):     \n",
    "                \n",
    "                self.prob_distribution[idx] = self.prob_distribution[idx] / S\n",
    "                \n",
    "        self.prob_distribution_items = {q : prob_K_q(K_mathcal, q,self.prob_distribution) for q in self.Q}    \n",
    "        \n",
    "        self.min_half = min([np.abs(p - 0.5) for p in self.prob_distribution_items.values()])    \n",
    "            \n",
    "        self.distance_half = [q for q in self.Q if np.abs(self.prob_distribution_items[q]  -0.5 ) \\\n",
    "                              == self.min_half]\n",
    "        \n",
    "        idx_next_item = np.random.randint(0,len(self.distance_half))\n",
    "        \n",
    "        self.next_item = self.distance_half[idx_next_item]\n",
    "        \n",
    "    def response_item(self,r):\n",
    "        \n",
    "        q = self.next_item\n",
    "        self.responded_items[q].append(r)    \n",
    "        \n",
    "        for idx,K in enumerate(self.K_mathcal):\n",
    "            \n",
    "            if int(q in K) == r:\n",
    "                \n",
    "                self.prob_distribution[idx] = self.Xi[(q,r)] * self.prob_distribution[idx]\n",
    "                \n",
    "        S = np.sum(self.prob_distribution)        \n",
    "                \n",
    "        for idx in range(len(self.K_mathcal)):     \n",
    "                \n",
    "                self.prob_distribution[idx] = self.prob_distribution[idx] / S\n",
    "                \n",
    "        self.prob_distribution_items = {q : prob_K_q(K_mathcal, q,self.prob_distribution) for q in Q}    \n",
    "        self.min_half = min([np.abs(p - 0.5) for p in self.prob_distribution_items.values()])    \n",
    "        self.distance_half = [q for q in self.Q if np.abs(self.prob_distribution_items[q]  -0.5 ) \\\n",
    "                              == self.min_half]\n",
    "        \n",
    "        idx_next_item = np.random.randint(0,len(self.distance_half))\n",
    "        self.next_item = self.distance_half[idx_next_item]\n",
    "        \n",
    "    def info_preguntas_respondidas(self):\n",
    "        \n",
    "        self.nb_preguntas_respondidas = sum([len(pregunta) for pregunta in self.responded_items.values()])\n",
    "        self.nb_respuestas_correctas = sum([sum(pregunta) for pregunta in self.responded_items.values()])\n",
    "        self.nb_respuestas_incorrectas = self.nb_preguntas_respondidas - self.nb_respuestas_correctas"
   ]
  },
  {
   "cell_type": "markdown",
   "id": "9cac2bf3",
   "metadata": {},
   "source": [
    "# Example 1: simulación"
   ]
  },
  {
   "cell_type": "code",
   "execution_count": 3,
   "id": "2259a647",
   "metadata": {},
   "outputs": [],
   "source": [
    "Q = ['a' , 'b' , 'c' , 'd' , 'e']\n",
    "K_mathcal = [[],['a'],['b'],['a','b'],['b','d'],['a','b','c'],['a','b','d'],['b','c','d'],Q]\n",
    "K0 = ['b','d']\n",
    "beta_q = {'b' : 0.1 ,'d' : 0.1}\n",
    "\n",
    "QxR = []\n",
    "\n",
    "for q in Q:\n",
    "    for r in [0,1]:\n",
    "        QxR.append((q,r))\n",
    "\n",
    "Xi = {x : 4.0 for x in QxR}"
   ]
  },
  {
   "cell_type": "code",
   "execution_count": 4,
   "id": "750fe1c4",
   "metadata": {},
   "outputs": [],
   "source": [
    "network_learning = knowledge_learning_space(Q=Q,K_mathcal=K_mathcal,Xi=Xi,beta_q=beta_q,K0=K0)"
   ]
  },
  {
   "cell_type": "code",
   "execution_count": 5,
   "id": "300098fd",
   "metadata": {},
   "outputs": [
    {
     "data": {
      "text/plain": [
       "{'a': [], 'b': [], 'c': [], 'd': [], 'e': []}"
      ]
     },
     "execution_count": 5,
     "metadata": {},
     "output_type": "execute_result"
    }
   ],
   "source": [
    "network_learning.responded_items"
   ]
  },
  {
   "cell_type": "markdown",
   "id": "45e5306c",
   "metadata": {},
   "source": [
    "Probabilidad de cada estado de conocimiento:"
   ]
  },
  {
   "cell_type": "code",
   "execution_count": 6,
   "id": "877bf23d",
   "metadata": {},
   "outputs": [
    {
     "name": "stdout",
     "output_type": "stream",
     "text": [
      "Probability([])=0.1111111111111111\n",
      "Probability(['a'])=0.1111111111111111\n",
      "Probability(['b'])=0.1111111111111111\n",
      "Probability(['a', 'b'])=0.1111111111111111\n",
      "Probability(['b', 'd'])=0.1111111111111111\n",
      "Probability(['a', 'b', 'c'])=0.1111111111111111\n",
      "Probability(['a', 'b', 'd'])=0.1111111111111111\n",
      "Probability(['b', 'c', 'd'])=0.1111111111111111\n",
      "Probability(['a', 'b', 'c', 'd', 'e'])=0.1111111111111111\n"
     ]
    }
   ],
   "source": [
    "for knowledge_state, prob in zip(network_learning.K_mathcal,network_learning.prob_distribution):\n",
    "    print(f'Probability({knowledge_state})={prob}')"
   ]
  },
  {
   "cell_type": "markdown",
   "id": "b2a3c074",
   "metadata": {},
   "source": [
    "Probabilidad que el estudiante maneje cada item:"
   ]
  },
  {
   "cell_type": "code",
   "execution_count": 7,
   "id": "6b6d0f5e",
   "metadata": {},
   "outputs": [
    {
     "name": "stdout",
     "output_type": "stream",
     "text": [
      "Probability(a)=0.5555555555555556\n",
      "Probability(b)=0.7777777777777779\n",
      "Probability(c)=0.3333333333333333\n",
      "Probability(d)=0.4444444444444444\n",
      "Probability(e)=0.1111111111111111\n"
     ]
    }
   ],
   "source": [
    "for item, prob in network_learning.prob_distribution_items.items():\n",
    "    print(f'Probability({item})={prob}')"
   ]
  },
  {
   "cell_type": "code",
   "execution_count": 8,
   "id": "ed6b093e",
   "metadata": {},
   "outputs": [
    {
     "data": {
      "text/plain": [
       "'a'"
      ]
     },
     "execution_count": 8,
     "metadata": {},
     "output_type": "execute_result"
    }
   ],
   "source": [
    "network_learning.next_item"
   ]
  },
  {
   "cell_type": "code",
   "execution_count": 9,
   "id": "371ea066",
   "metadata": {},
   "outputs": [],
   "source": [
    "network_learning.simulation()"
   ]
  },
  {
   "cell_type": "code",
   "execution_count": 10,
   "id": "4c3b415d",
   "metadata": {},
   "outputs": [
    {
     "data": {
      "text/plain": [
       "{'a': [0], 'b': [], 'c': [], 'd': [], 'e': []}"
      ]
     },
     "execution_count": 10,
     "metadata": {},
     "output_type": "execute_result"
    }
   ],
   "source": [
    "network_learning.responded_items"
   ]
  },
  {
   "cell_type": "code",
   "execution_count": 11,
   "id": "50f348d0",
   "metadata": {},
   "outputs": [
    {
     "name": "stdout",
     "output_type": "stream",
     "text": [
      "Probability([])=0.19047619047619047\n",
      "Probability(['a'])=0.047619047619047616\n",
      "Probability(['b'])=0.19047619047619047\n",
      "Probability(['a', 'b'])=0.047619047619047616\n",
      "Probability(['b', 'd'])=0.19047619047619047\n",
      "Probability(['a', 'b', 'c'])=0.047619047619047616\n",
      "Probability(['a', 'b', 'd'])=0.047619047619047616\n",
      "Probability(['b', 'c', 'd'])=0.19047619047619047\n",
      "Probability(['a', 'b', 'c', 'd', 'e'])=0.047619047619047616\n"
     ]
    }
   ],
   "source": [
    "for knowledge_state, prob in zip(network_learning.K_mathcal,network_learning.prob_distribution):\n",
    "    print(f'Probability({knowledge_state})={prob}')"
   ]
  },
  {
   "cell_type": "code",
   "execution_count": 12,
   "id": "2e3b5e67",
   "metadata": {},
   "outputs": [
    {
     "name": "stdout",
     "output_type": "stream",
     "text": [
      "Probability(a)=0.23809523809523808\n",
      "Probability(b)=0.7619047619047619\n",
      "Probability(c)=0.2857142857142857\n",
      "Probability(d)=0.47619047619047616\n",
      "Probability(e)=0.047619047619047616\n"
     ]
    }
   ],
   "source": [
    "for item, prob in network_learning.prob_distribution_items.items():\n",
    "    print(f'Probability({item})={prob}')"
   ]
  },
  {
   "cell_type": "code",
   "execution_count": 13,
   "id": "e258f8da",
   "metadata": {},
   "outputs": [
    {
     "data": {
      "text/plain": [
       "'d'"
      ]
     },
     "execution_count": 13,
     "metadata": {},
     "output_type": "execute_result"
    }
   ],
   "source": [
    "network_learning.next_item"
   ]
  },
  {
   "cell_type": "code",
   "execution_count": 14,
   "id": "e177bd0c",
   "metadata": {},
   "outputs": [],
   "source": [
    "network_learning.simulation()"
   ]
  },
  {
   "cell_type": "code",
   "execution_count": 15,
   "id": "44ab79d8",
   "metadata": {},
   "outputs": [
    {
     "data": {
      "text/plain": [
       "{'a': [0], 'b': [], 'c': [], 'd': [1], 'e': []}"
      ]
     },
     "execution_count": 15,
     "metadata": {},
     "output_type": "execute_result"
    }
   ],
   "source": [
    "network_learning.responded_items"
   ]
  },
  {
   "cell_type": "code",
   "execution_count": 16,
   "id": "c559d889",
   "metadata": {},
   "outputs": [
    {
     "name": "stdout",
     "output_type": "stream",
     "text": [
      "Probability([])=0.07843137254901959\n",
      "Probability(['a'])=0.019607843137254898\n",
      "Probability(['b'])=0.07843137254901959\n",
      "Probability(['a', 'b'])=0.019607843137254898\n",
      "Probability(['b', 'd'])=0.31372549019607837\n",
      "Probability(['a', 'b', 'c'])=0.019607843137254898\n",
      "Probability(['a', 'b', 'd'])=0.07843137254901959\n",
      "Probability(['b', 'c', 'd'])=0.31372549019607837\n",
      "Probability(['a', 'b', 'c', 'd', 'e'])=0.07843137254901959\n"
     ]
    }
   ],
   "source": [
    "for knowledge_state, prob in zip(network_learning.K_mathcal,network_learning.prob_distribution):\n",
    "    print(f'Probability({knowledge_state})={prob}')"
   ]
  },
  {
   "cell_type": "code",
   "execution_count": 17,
   "id": "ab101a4c",
   "metadata": {},
   "outputs": [
    {
     "name": "stdout",
     "output_type": "stream",
     "text": [
      "Probability(a)=0.21568627450980388\n",
      "Probability(b)=0.9019607843137252\n",
      "Probability(c)=0.41176470588235287\n",
      "Probability(d)=0.784313725490196\n",
      "Probability(e)=0.07843137254901959\n"
     ]
    }
   ],
   "source": [
    "for item, prob in network_learning.prob_distribution_items.items():\n",
    "    print(f'Probability({item})={prob}')"
   ]
  },
  {
   "cell_type": "code",
   "execution_count": 18,
   "id": "17095e90",
   "metadata": {},
   "outputs": [],
   "source": [
    "network_learning.simulation()"
   ]
  },
  {
   "cell_type": "code",
   "execution_count": 19,
   "id": "eaf24f26",
   "metadata": {},
   "outputs": [
    {
     "data": {
      "text/plain": [
       "{'a': [0], 'b': [], 'c': [0], 'd': [1], 'e': []}"
      ]
     },
     "execution_count": 19,
     "metadata": {},
     "output_type": "execute_result"
    }
   ],
   "source": [
    "network_learning.responded_items"
   ]
  },
  {
   "cell_type": "code",
   "execution_count": 20,
   "id": "c026cf82",
   "metadata": {},
   "outputs": [
    {
     "name": "stdout",
     "output_type": "stream",
     "text": [
      "Probability([])=0.11347517730496454\n",
      "Probability(['a'])=0.028368794326241134\n",
      "Probability(['b'])=0.11347517730496454\n",
      "Probability(['a', 'b'])=0.028368794326241134\n",
      "Probability(['b', 'd'])=0.45390070921985815\n",
      "Probability(['a', 'b', 'c'])=0.0070921985815602835\n",
      "Probability(['a', 'b', 'd'])=0.11347517730496454\n",
      "Probability(['b', 'c', 'd'])=0.11347517730496454\n",
      "Probability(['a', 'b', 'c', 'd', 'e'])=0.028368794326241134\n"
     ]
    }
   ],
   "source": [
    "for knowledge_state, prob in zip(network_learning.K_mathcal,network_learning.prob_distribution):\n",
    "    print(f'Probability({knowledge_state})={prob}')"
   ]
  },
  {
   "cell_type": "code",
   "execution_count": 21,
   "id": "0e3f7543",
   "metadata": {},
   "outputs": [
    {
     "name": "stdout",
     "output_type": "stream",
     "text": [
      "Probability(a)=0.2056737588652482\n",
      "Probability(b)=0.8581560283687943\n",
      "Probability(c)=0.14893617021276595\n",
      "Probability(d)=0.7092198581560283\n",
      "Probability(e)=0.028368794326241134\n"
     ]
    }
   ],
   "source": [
    "for item, prob in network_learning.prob_distribution_items.items():\n",
    "    print(f'Probability({item})={prob}')"
   ]
  },
  {
   "cell_type": "code",
   "execution_count": 22,
   "id": "2a2a06bc",
   "metadata": {},
   "outputs": [],
   "source": [
    "network_learning.simulation()"
   ]
  },
  {
   "cell_type": "code",
   "execution_count": 23,
   "id": "c6df8520",
   "metadata": {},
   "outputs": [
    {
     "data": {
      "text/plain": [
       "{'a': [0], 'b': [], 'c': [0], 'd': [1, 1], 'e': []}"
      ]
     },
     "execution_count": 23,
     "metadata": {},
     "output_type": "execute_result"
    }
   ],
   "source": [
    "network_learning.responded_items"
   ]
  },
  {
   "cell_type": "code",
   "execution_count": 24,
   "id": "cdceeaa4",
   "metadata": {},
   "outputs": [
    {
     "name": "stdout",
     "output_type": "stream",
     "text": [
      "Probability([])=0.036281179138321996\n",
      "Probability(['a'])=0.009070294784580499\n",
      "Probability(['b'])=0.036281179138321996\n",
      "Probability(['a', 'b'])=0.009070294784580499\n",
      "Probability(['b', 'd'])=0.5804988662131519\n",
      "Probability(['a', 'b', 'c'])=0.0022675736961451248\n",
      "Probability(['a', 'b', 'd'])=0.14512471655328799\n",
      "Probability(['b', 'c', 'd'])=0.14512471655328799\n",
      "Probability(['a', 'b', 'c', 'd', 'e'])=0.036281179138321996\n"
     ]
    }
   ],
   "source": [
    "for knowledge_state, prob in zip(network_learning.K_mathcal,network_learning.prob_distribution):\n",
    "    print(f'Probability({knowledge_state})={prob}')"
   ]
  },
  {
   "cell_type": "code",
   "execution_count": 25,
   "id": "f0ab68ce",
   "metadata": {},
   "outputs": [
    {
     "name": "stdout",
     "output_type": "stream",
     "text": [
      "Probability(a)=0.2018140589569161\n",
      "Probability(b)=0.9546485260770975\n",
      "Probability(c)=0.1836734693877551\n",
      "Probability(d)=0.9070294784580498\n",
      "Probability(e)=0.036281179138321996\n"
     ]
    }
   ],
   "source": [
    "for item, prob in network_learning.prob_distribution_items.items():\n",
    "    print(f'Probability({item})={prob}')"
   ]
  },
  {
   "cell_type": "code",
   "execution_count": 26,
   "id": "0c07062c",
   "metadata": {},
   "outputs": [],
   "source": [
    "network_learning.simulation()"
   ]
  },
  {
   "cell_type": "code",
   "execution_count": 27,
   "id": "7ee2753f",
   "metadata": {},
   "outputs": [
    {
     "data": {
      "text/plain": [
       "{'a': [0, 0], 'b': [], 'c': [0], 'd': [1, 1], 'e': []}"
      ]
     },
     "execution_count": 27,
     "metadata": {},
     "output_type": "execute_result"
    }
   ],
   "source": [
    "network_learning.responded_items"
   ]
  },
  {
   "cell_type": "code",
   "execution_count": 28,
   "id": "9a064c4a",
   "metadata": {},
   "outputs": [
    {
     "name": "stdout",
     "output_type": "stream",
     "text": [
      "Probability([])=0.04275217100868403\n",
      "Probability(['a'])=0.002672010688042752\n",
      "Probability(['b'])=0.04275217100868403\n",
      "Probability(['a', 'b'])=0.002672010688042752\n",
      "Probability(['b', 'd'])=0.6840347361389445\n",
      "Probability(['a', 'b', 'c'])=0.000668002672010688\n",
      "Probability(['a', 'b', 'd'])=0.04275217100868403\n",
      "Probability(['b', 'c', 'd'])=0.17100868403473612\n",
      "Probability(['a', 'b', 'c', 'd', 'e'])=0.010688042752171008\n"
     ]
    }
   ],
   "source": [
    "for knowledge_state, prob in zip(network_learning.K_mathcal,network_learning.prob_distribution):\n",
    "    print(f'Probability({knowledge_state})={prob}')"
   ]
  },
  {
   "cell_type": "code",
   "execution_count": 29,
   "id": "995573a0",
   "metadata": {},
   "outputs": [
    {
     "name": "stdout",
     "output_type": "stream",
     "text": [
      "Probability(a)=0.05945223780895123\n",
      "Probability(b)=0.9545758183032732\n",
      "Probability(c)=0.18236472945891782\n",
      "Probability(d)=0.9084836339345357\n",
      "Probability(e)=0.010688042752171008\n"
     ]
    }
   ],
   "source": [
    "for item, prob in network_learning.prob_distribution_items.items():\n",
    "    print(f'Probability({item})={prob}')"
   ]
  },
  {
   "cell_type": "code",
   "execution_count": 30,
   "id": "0d4dd322",
   "metadata": {},
   "outputs": [
    {
     "name": "stdout",
     "output_type": "stream",
     "text": [
      "Probability(a)=0.05945223780895123\n",
      "Probability(b)=0.9545758183032732\n",
      "Probability(c)=0.18236472945891782\n",
      "Probability(d)=0.9084836339345357\n",
      "Probability(e)=0.010688042752171008\n"
     ]
    }
   ],
   "source": [
    "for item, prob in network_learning.prob_distribution_items.items():\n",
    "    print(f'Probability({item})={prob}')"
   ]
  },
  {
   "cell_type": "code",
   "execution_count": null,
   "id": "c53c17dd",
   "metadata": {},
   "outputs": [],
   "source": []
  },
  {
   "cell_type": "code",
   "execution_count": null,
   "id": "4bb63073",
   "metadata": {},
   "outputs": [],
   "source": []
  },
  {
   "cell_type": "code",
   "execution_count": null,
   "id": "75c7ff48",
   "metadata": {},
   "outputs": [],
   "source": []
  },
  {
   "cell_type": "code",
   "execution_count": 31,
   "id": "edcb7318",
   "metadata": {},
   "outputs": [
    {
     "name": "stdout",
     "output_type": "stream",
     "text": [
      "El estudiante ha respondido a 5 preguntas, tuvo 2 correctas y 3 incorrectas.\n"
     ]
    }
   ],
   "source": [
    "network_learning.info_preguntas_respondidas()\n",
    "\n",
    "print(f\"El estudiante ha respondido a {network_learning.nb_preguntas_respondidas} preguntas, \\\n",
    "tuvo {network_learning.nb_respuestas_correctas} correctas y {network_learning.nb_respuestas_incorrectas}\\\n",
    " incorrectas.\")"
   ]
  },
  {
   "cell_type": "markdown",
   "id": "17f1684c",
   "metadata": {},
   "source": [
    "# Example 2: response of student"
   ]
  },
  {
   "cell_type": "code",
   "execution_count": 32,
   "id": "24038894",
   "metadata": {},
   "outputs": [],
   "source": [
    "Q = ['a' , 'b' , 'c' , 'd' , 'e']\n",
    "K_mathcal = [[],['a'],['b'],['a','b'],['b','d'],['a','b','c'],['a','b','d'],['b','c','d'],Q]\n",
    "nombre = \"Paula\"\n",
    "\n",
    "QxR = []\n",
    "\n",
    "for q in Q:\n",
    "    for r in [0,1]:\n",
    "        QxR.append((q,r))\n",
    "\n",
    "Xi = {x : 4.0 for x in QxR}"
   ]
  },
  {
   "cell_type": "code",
   "execution_count": 33,
   "id": "a542854f",
   "metadata": {},
   "outputs": [],
   "source": [
    "Paula =  knowledge_learning_space(Q,K_mathcal,Xi,student_name = nombre)"
   ]
  },
  {
   "cell_type": "code",
   "execution_count": 34,
   "id": "5a9951b4",
   "metadata": {},
   "outputs": [
    {
     "data": {
      "text/plain": [
       "{'a': [], 'b': [], 'c': [], 'd': [], 'e': []}"
      ]
     },
     "execution_count": 34,
     "metadata": {},
     "output_type": "execute_result"
    }
   ],
   "source": [
    "Paula.responded_items"
   ]
  },
  {
   "cell_type": "markdown",
   "id": "e0e3603d",
   "metadata": {},
   "source": [
    "Asumimos que Paula sabe responder correctamente a los items a y b"
   ]
  },
  {
   "cell_type": "code",
   "execution_count": 35,
   "id": "28917be0",
   "metadata": {},
   "outputs": [
    {
     "name": "stdout",
     "output_type": "stream",
     "text": [
      "Probability([])=0.1111111111111111\n",
      "Probability(['a'])=0.1111111111111111\n",
      "Probability(['b'])=0.1111111111111111\n",
      "Probability(['a', 'b'])=0.1111111111111111\n",
      "Probability(['b', 'd'])=0.1111111111111111\n",
      "Probability(['a', 'b', 'c'])=0.1111111111111111\n",
      "Probability(['a', 'b', 'd'])=0.1111111111111111\n",
      "Probability(['b', 'c', 'd'])=0.1111111111111111\n",
      "Probability(['a', 'b', 'c', 'd', 'e'])=0.1111111111111111\n"
     ]
    }
   ],
   "source": [
    "for knowledge_state, prob in zip(Paula.K_mathcal,Paula.prob_distribution):\n",
    "    print(f'Probability({knowledge_state})={prob}')"
   ]
  },
  {
   "cell_type": "code",
   "execution_count": 36,
   "id": "785809c9",
   "metadata": {},
   "outputs": [
    {
     "name": "stdout",
     "output_type": "stream",
     "text": [
      "Probability(a)=0.5555555555555556\n",
      "Probability(b)=0.7777777777777779\n",
      "Probability(c)=0.3333333333333333\n",
      "Probability(d)=0.4444444444444444\n",
      "Probability(e)=0.1111111111111111\n"
     ]
    }
   ],
   "source": [
    "for item, prob in Paula.prob_distribution_items.items():\n",
    "    print(f'Probability({item})={prob}')"
   ]
  },
  {
   "cell_type": "code",
   "execution_count": 37,
   "id": "91493754",
   "metadata": {},
   "outputs": [
    {
     "data": {
      "text/plain": [
       "'a'"
      ]
     },
     "execution_count": 37,
     "metadata": {},
     "output_type": "execute_result"
    }
   ],
   "source": [
    "Paula.next_item"
   ]
  },
  {
   "cell_type": "code",
   "execution_count": 38,
   "id": "95d00661",
   "metadata": {},
   "outputs": [],
   "source": [
    "Paula.response_item(1)"
   ]
  },
  {
   "cell_type": "code",
   "execution_count": 39,
   "id": "091365dc",
   "metadata": {},
   "outputs": [
    {
     "data": {
      "text/plain": [
       "{'a': [1], 'b': [], 'c': [], 'd': [], 'e': []}"
      ]
     },
     "execution_count": 39,
     "metadata": {},
     "output_type": "execute_result"
    }
   ],
   "source": [
    "Paula.responded_items"
   ]
  },
  {
   "cell_type": "code",
   "execution_count": 40,
   "id": "a85c2600",
   "metadata": {},
   "outputs": [
    {
     "name": "stdout",
     "output_type": "stream",
     "text": [
      "Probability([])=0.04166666666666666\n",
      "Probability(['a'])=0.16666666666666663\n",
      "Probability(['b'])=0.04166666666666666\n",
      "Probability(['a', 'b'])=0.16666666666666663\n",
      "Probability(['b', 'd'])=0.04166666666666666\n",
      "Probability(['a', 'b', 'c'])=0.16666666666666663\n",
      "Probability(['a', 'b', 'd'])=0.16666666666666663\n",
      "Probability(['b', 'c', 'd'])=0.04166666666666666\n",
      "Probability(['a', 'b', 'c', 'd', 'e'])=0.16666666666666663\n"
     ]
    }
   ],
   "source": [
    "for knowledge_state, prob in zip(Paula.K_mathcal,Paula.prob_distribution):\n",
    "    print(f'Probability({knowledge_state})={prob}')"
   ]
  },
  {
   "cell_type": "code",
   "execution_count": 41,
   "id": "cf2d5f48",
   "metadata": {},
   "outputs": [
    {
     "name": "stdout",
     "output_type": "stream",
     "text": [
      "Probability(a)=0.8333333333333331\n",
      "Probability(b)=0.7916666666666665\n",
      "Probability(c)=0.3749999999999999\n",
      "Probability(d)=0.4166666666666666\n",
      "Probability(e)=0.16666666666666663\n"
     ]
    }
   ],
   "source": [
    "for item, prob in Paula.prob_distribution_items.items():\n",
    "    print(f'Probability({item})={prob}')"
   ]
  },
  {
   "cell_type": "code",
   "execution_count": 42,
   "id": "0b221c55",
   "metadata": {},
   "outputs": [
    {
     "data": {
      "text/plain": [
       "'d'"
      ]
     },
     "execution_count": 42,
     "metadata": {},
     "output_type": "execute_result"
    }
   ],
   "source": [
    "Paula.next_item"
   ]
  },
  {
   "cell_type": "code",
   "execution_count": 43,
   "id": "483dc0c9",
   "metadata": {},
   "outputs": [],
   "source": [
    "Paula.response_item(0)"
   ]
  },
  {
   "cell_type": "code",
   "execution_count": 44,
   "id": "b6ff84cc",
   "metadata": {},
   "outputs": [
    {
     "data": {
      "text/plain": [
       "{'a': [1], 'b': [], 'c': [], 'd': [0], 'e': []}"
      ]
     },
     "execution_count": 44,
     "metadata": {},
     "output_type": "execute_result"
    }
   ],
   "source": [
    "Paula.responded_items"
   ]
  },
  {
   "cell_type": "code",
   "execution_count": 45,
   "id": "806f9c26",
   "metadata": {},
   "outputs": [
    {
     "name": "stdout",
     "output_type": "stream",
     "text": [
      "Probability([])=0.060606060606060615\n",
      "Probability(['a'])=0.24242424242424246\n",
      "Probability(['b'])=0.060606060606060615\n",
      "Probability(['a', 'b'])=0.24242424242424246\n",
      "Probability(['b', 'd'])=0.015151515151515154\n",
      "Probability(['a', 'b', 'c'])=0.24242424242424246\n",
      "Probability(['a', 'b', 'd'])=0.060606060606060615\n",
      "Probability(['b', 'c', 'd'])=0.015151515151515154\n",
      "Probability(['a', 'b', 'c', 'd', 'e'])=0.060606060606060615\n"
     ]
    }
   ],
   "source": [
    "for knowledge_state, prob in zip(Paula.K_mathcal,Paula.prob_distribution):\n",
    "    print(f'Probability({knowledge_state})={prob}')"
   ]
  },
  {
   "cell_type": "code",
   "execution_count": 46,
   "id": "f451ae4b",
   "metadata": {},
   "outputs": [
    {
     "name": "stdout",
     "output_type": "stream",
     "text": [
      "Probability(a)=0.8484848484848487\n",
      "Probability(b)=0.6969696969696971\n",
      "Probability(c)=0.31818181818181823\n",
      "Probability(d)=0.15151515151515155\n",
      "Probability(e)=0.060606060606060615\n"
     ]
    }
   ],
   "source": [
    "for item, prob in Paula.prob_distribution_items.items():\n",
    "    print(f'Probability({item})={prob}')"
   ]
  },
  {
   "cell_type": "code",
   "execution_count": 47,
   "id": "8e23eaa3",
   "metadata": {},
   "outputs": [
    {
     "data": {
      "text/plain": [
       "'c'"
      ]
     },
     "execution_count": 47,
     "metadata": {},
     "output_type": "execute_result"
    }
   ],
   "source": [
    "Paula.next_item"
   ]
  },
  {
   "cell_type": "code",
   "execution_count": 48,
   "id": "a58a5b75",
   "metadata": {},
   "outputs": [],
   "source": [
    "Paula.response_item(0)"
   ]
  },
  {
   "cell_type": "code",
   "execution_count": 49,
   "id": "a6be40b1",
   "metadata": {},
   "outputs": [
    {
     "data": {
      "text/plain": [
       "{'a': [1], 'b': [], 'c': [0], 'd': [0], 'e': []}"
      ]
     },
     "execution_count": 49,
     "metadata": {},
     "output_type": "execute_result"
    }
   ],
   "source": [
    "Paula.responded_items"
   ]
  },
  {
   "cell_type": "code",
   "execution_count": 50,
   "id": "83a5f9f3",
   "metadata": {},
   "outputs": [
    {
     "name": "stdout",
     "output_type": "stream",
     "text": [
      "Probability([])=0.07960199004975124\n",
      "Probability(['a'])=0.31840796019900497\n",
      "Probability(['b'])=0.07960199004975124\n",
      "Probability(['a', 'b'])=0.31840796019900497\n",
      "Probability(['b', 'd'])=0.01990049751243781\n",
      "Probability(['a', 'b', 'c'])=0.07960199004975124\n",
      "Probability(['a', 'b', 'd'])=0.07960199004975124\n",
      "Probability(['b', 'c', 'd'])=0.004975124378109453\n",
      "Probability(['a', 'b', 'c', 'd', 'e'])=0.01990049751243781\n"
     ]
    }
   ],
   "source": [
    "for knowledge_state, prob in zip(Paula.K_mathcal,Paula.prob_distribution):\n",
    "    print(f'Probability({knowledge_state})={prob}')"
   ]
  },
  {
   "cell_type": "code",
   "execution_count": 51,
   "id": "720c163f",
   "metadata": {},
   "outputs": [
    {
     "name": "stdout",
     "output_type": "stream",
     "text": [
      "Probability(a)=0.8159203980099502\n",
      "Probability(b)=0.6019900497512437\n",
      "Probability(c)=0.1044776119402985\n",
      "Probability(d)=0.12437810945273631\n",
      "Probability(e)=0.01990049751243781\n"
     ]
    }
   ],
   "source": [
    "for item, prob in Paula.prob_distribution_items.items():\n",
    "    print(f'Probability({item})={prob}')"
   ]
  },
  {
   "cell_type": "code",
   "execution_count": 52,
   "id": "98af27cb",
   "metadata": {},
   "outputs": [
    {
     "data": {
      "text/plain": [
       "'b'"
      ]
     },
     "execution_count": 52,
     "metadata": {},
     "output_type": "execute_result"
    }
   ],
   "source": [
    "Paula.next_item"
   ]
  },
  {
   "cell_type": "code",
   "execution_count": 53,
   "id": "ba630e1e",
   "metadata": {},
   "outputs": [],
   "source": [
    "Paula.response_item(1)"
   ]
  },
  {
   "cell_type": "code",
   "execution_count": 54,
   "id": "7be7942d",
   "metadata": {},
   "outputs": [
    {
     "data": {
      "text/plain": [
       "{'a': [1], 'b': [1], 'c': [0], 'd': [0], 'e': []}"
      ]
     },
     "execution_count": 54,
     "metadata": {},
     "output_type": "execute_result"
    }
   ],
   "source": [
    "Paula.responded_items"
   ]
  },
  {
   "cell_type": "code",
   "execution_count": 55,
   "id": "1b7a8686",
   "metadata": {},
   "outputs": [
    {
     "name": "stdout",
     "output_type": "stream",
     "text": [
      "Probability([])=0.028368794326241138\n",
      "Probability(['a'])=0.11347517730496455\n",
      "Probability(['b'])=0.11347517730496455\n",
      "Probability(['a', 'b'])=0.4539007092198582\n",
      "Probability(['b', 'd'])=0.028368794326241138\n",
      "Probability(['a', 'b', 'c'])=0.11347517730496455\n",
      "Probability(['a', 'b', 'd'])=0.11347517730496455\n",
      "Probability(['b', 'c', 'd'])=0.007092198581560284\n",
      "Probability(['a', 'b', 'c', 'd', 'e'])=0.028368794326241138\n"
     ]
    }
   ],
   "source": [
    "for knowledge_state, prob in zip(Paula.K_mathcal,Paula.prob_distribution):\n",
    "    print(f'Probability({knowledge_state})={prob}')"
   ]
  },
  {
   "cell_type": "code",
   "execution_count": 56,
   "id": "c96afc1a",
   "metadata": {},
   "outputs": [
    {
     "name": "stdout",
     "output_type": "stream",
     "text": [
      "Probability(a)=0.8226950354609931\n",
      "Probability(b)=0.8581560283687946\n",
      "Probability(c)=0.14893617021276598\n",
      "Probability(d)=0.17730496453900713\n",
      "Probability(e)=0.028368794326241138\n"
     ]
    }
   ],
   "source": [
    "for item, prob in Paula.prob_distribution_items.items():\n",
    "    print(f'Probability({item})={prob}')"
   ]
  },
  {
   "cell_type": "code",
   "execution_count": 57,
   "id": "e90c73b2",
   "metadata": {},
   "outputs": [
    {
     "data": {
      "text/plain": [
       "'d'"
      ]
     },
     "execution_count": 57,
     "metadata": {},
     "output_type": "execute_result"
    }
   ],
   "source": [
    "Paula.next_item"
   ]
  },
  {
   "cell_type": "code",
   "execution_count": 58,
   "id": "981fc11c",
   "metadata": {},
   "outputs": [],
   "source": [
    "Paula.response_item(0)"
   ]
  },
  {
   "cell_type": "code",
   "execution_count": 59,
   "id": "2c001915",
   "metadata": {},
   "outputs": [
    {
     "name": "stdout",
     "output_type": "stream",
     "text": [
      "Probability([])=0.032719836400818\n",
      "Probability(['a'])=0.130879345603272\n",
      "Probability(['b'])=0.130879345603272\n",
      "Probability(['a', 'b'])=0.523517382413088\n",
      "Probability(['b', 'd'])=0.0081799591002045\n",
      "Probability(['a', 'b', 'c'])=0.130879345603272\n",
      "Probability(['a', 'b', 'd'])=0.032719836400818\n",
      "Probability(['b', 'c', 'd'])=0.002044989775051125\n",
      "Probability(['a', 'b', 'c', 'd', 'e'])=0.0081799591002045\n"
     ]
    }
   ],
   "source": [
    "for knowledge_state, prob in zip(Paula.K_mathcal,Paula.prob_distribution):\n",
    "    print(f'Probability({knowledge_state})={prob}')"
   ]
  },
  {
   "cell_type": "code",
   "execution_count": 60,
   "id": "20469435",
   "metadata": {},
   "outputs": [
    {
     "name": "stdout",
     "output_type": "stream",
     "text": [
      "Probability(a)=0.8261758691206544\n",
      "Probability(b)=0.83640081799591\n",
      "Probability(c)=0.14110429447852763\n",
      "Probability(d)=0.05112474437627812\n",
      "Probability(e)=0.0081799591002045\n"
     ]
    }
   ],
   "source": [
    "for item, prob in Paula.prob_distribution_items.items():\n",
    "    print(f'Probability({item})={prob}')"
   ]
  },
  {
   "cell_type": "code",
   "execution_count": null,
   "id": "3dc21d1d",
   "metadata": {},
   "outputs": [],
   "source": []
  }
 ],
 "metadata": {
  "kernelspec": {
   "display_name": "Python 3 (ipykernel)",
   "language": "python",
   "name": "python3"
  },
  "language_info": {
   "codemirror_mode": {
    "name": "ipython",
    "version": 3
   },
   "file_extension": ".py",
   "mimetype": "text/x-python",
   "name": "python",
   "nbconvert_exporter": "python",
   "pygments_lexer": "ipython3",
   "version": "3.9.12"
  }
 },
 "nbformat": 4,
 "nbformat_minor": 5
}
