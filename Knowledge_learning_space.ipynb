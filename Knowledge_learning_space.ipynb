{
 "cells": [
  {
   "cell_type": "code",
   "execution_count": 1,
   "id": "a48d3e6d",
   "metadata": {},
   "outputs": [],
   "source": [
    "K_q = lambda K_mathcal , q : [idx for idx,K in enumerate(K_mathcal) if q in K]\n",
    "\n",
    "prob_K_q = lambda K_mathcal, q, prob : sum([prob[idx] for idx in K_q(K_mathcal , q)])"
   ]
  },
  {
   "cell_type": "code",
   "execution_count": 9,
   "id": "fd07b9c8",
   "metadata": {},
   "outputs": [],
   "source": [
    "import numpy as np\n",
    "\n",
    "# Q is the set of items\n",
    "# K_mathcal is the knowledge network\n",
    "# K0 is the set of items that the student understands. We use it for simulations but not for real student.\n",
    "# beta_q is the probability for the student to fail to response item q despite the fact that he manages this item.\n",
    "\n",
    "class knowledge_learning_space:\n",
    "    \n",
    "    def __init__(self,Q,K_mathcal,Xi,beta_q=None,prob_distribution = None,K0=None,student_name = None):\n",
    "\n",
    "        \n",
    "        if student_name != None:\n",
    "            self.student_name = student_name\n",
    "        \n",
    "        if (beta_q == None) and (K0!= None):\n",
    "            self.beta_q = {q : 0.0 for q in K0}\n",
    "        else:    \n",
    "            self.beta_q = beta_q\n",
    "        \n",
    "        self.K0 = K0\n",
    "        self.Xi = Xi\n",
    "        self.Q = Q\n",
    "        self.K_mathcal = K_mathcal\n",
    "        n_K = len(K_mathcal)\n",
    "        \n",
    "        if prob_distribution == None:\n",
    "            \n",
    "            self.prob_distribution =[1/n_K for K in K_mathcal] \n",
    "            \n",
    "        else:\n",
    "            \n",
    "            self.prob_distribution = prob_distribution\n",
    "            \n",
    "        self.prob_distribution_items = {q : prob_K_q(K_mathcal, q,self.prob_distribution) for q in self.Q}    \n",
    "        self.min_half = min([np.abs(p - 0.5) for p in self.prob_distribution_items.values()])    \n",
    "        self.distance_half = [q for q in self.Q if np.abs(self.prob_distribution_items[q]  -0.5 ) \\\n",
    "                              == self.min_half]\n",
    "        \n",
    "        self.responded_items = {q : [] for q in Q}\n",
    "        \n",
    "        idx_next_item = np.random.randint(0,len(self.distance_half))\n",
    "        \n",
    "        self.next_item = self.distance_half[idx_next_item]\n",
    "        \n",
    "    def simulation(self):\n",
    "        \n",
    "        if self.K0 == None:\n",
    "            raise NameError('No se puede simular sin conocer K0')\n",
    "        \n",
    "        q = self.next_item\n",
    "        r = int((q in self.K0) and (np.random.rand() <= 1 - self.beta_q[q]))\n",
    "        self.responded_items[q].append(r)\n",
    "        \n",
    "        for idx,K in enumerate(self.K_mathcal):\n",
    "            \n",
    "            if int(q in K) == r:\n",
    "                \n",
    "                self.prob_distribution[idx] = self.Xi[(q,r)] * self.prob_distribution[idx]\n",
    "                \n",
    "        S = np.sum(self.prob_distribution)        \n",
    "                \n",
    "        for idx in range(len(self.K_mathcal)):     \n",
    "                \n",
    "                self.prob_distribution[idx] = self.prob_distribution[idx] / S\n",
    "                \n",
    "        self.prob_distribution_items = {q : prob_K_q(K_mathcal, q,self.prob_distribution) for q in self.Q}    \n",
    "        \n",
    "        self.min_half = min([np.abs(p - 0.5) for p in self.prob_distribution_items.values()])    \n",
    "            \n",
    "        self.distance_half = [q for q in self.Q if np.abs(self.prob_distribution_items[q]  -0.5 ) \\\n",
    "                              == self.min_half]\n",
    "        \n",
    "        idx_next_item = np.random.randint(0,len(self.distance_half))\n",
    "        \n",
    "        self.next_item = self.distance_half[idx_next_item]\n",
    "        \n",
    "    def response_item(self,r):\n",
    "        \n",
    "        q = self.next_item\n",
    "        self.responded_items[q].append(r)    \n",
    "        \n",
    "        for idx,K in enumerate(self.K_mathcal):\n",
    "            \n",
    "            if int(q in K) == r:\n",
    "                \n",
    "                self.prob_distribution[idx] = self.Xi[(q,r)] * self.prob_distribution[idx]\n",
    "                \n",
    "        S = np.sum(self.prob_distribution)        \n",
    "                \n",
    "        for idx in range(len(self.K_mathcal)):     \n",
    "                \n",
    "                self.prob_distribution[idx] = self.prob_distribution[idx] / S\n",
    "                \n",
    "        self.prob_distribution_items = {q : prob_K_q(K_mathcal, q,self.prob_distribution) for q in Q}    \n",
    "        self.min_half = min([np.abs(p - 0.5) for p in self.prob_distribution_items.values()])    \n",
    "        self.distance_half = [q for q in self.Q if np.abs(self.prob_distribution_items[q]  -0.5 ) \\\n",
    "                              == self.min_half]\n",
    "        \n",
    "        idx_next_item = np.random.randint(0,len(self.distance_half))\n",
    "        self.next_item = self.distance_half[idx_next_item]"
   ]
  },
  {
   "cell_type": "markdown",
   "id": "9cac2bf3",
   "metadata": {},
   "source": [
    "# Example 1: simulación"
   ]
  },
  {
   "cell_type": "code",
   "execution_count": 148,
   "id": "2259a647",
   "metadata": {},
   "outputs": [],
   "source": [
    "Q = ['a' , 'b' , 'c' , 'd' , 'e']\n",
    "K_mathcal = [[],['a'],['b'],['a','b'],['b','d'],['a','b','c'],['a','b','d'],['b','c','d'],Q]\n",
    "K0 = ['b','d']\n",
    "beta_q = {'b' : 0.1 ,'d' : 0.1}\n",
    "\n",
    "QxR = []\n",
    "\n",
    "for q in Q:\n",
    "    for r in [0,1]:\n",
    "        QxR.append((q,r))\n",
    "\n",
    "Xi = {x : 4.0 for x in QxR}\n",
    "\n",
    "initial_prob = []\n",
    "S = 0\n",
    "for K in K_mathcal[:-1]:\n",
    "    p = (1 - S) * np.random.rand()\n",
    "    S += p\n",
    "    initial_prob.append(p)\n",
    "initial_prob.append(1-S)"
   ]
  },
  {
   "cell_type": "code",
   "execution_count": 149,
   "id": "32083677",
   "metadata": {},
   "outputs": [],
   "source": [
    "import random\n",
    "\n",
    "initial_prob = sorted(initial_prob, key=lambda y: random.randint(0, len(initial_prob)))"
   ]
  },
  {
   "cell_type": "code",
   "execution_count": 150,
   "id": "750fe1c4",
   "metadata": {},
   "outputs": [],
   "source": [
    "network_learning = knowledge_learning_space(Q,K_mathcal,Xi,beta_q,initial_prob,K0)"
   ]
  },
  {
   "cell_type": "code",
   "execution_count": 151,
   "id": "300098fd",
   "metadata": {},
   "outputs": [
    {
     "data": {
      "text/plain": [
       "{'a': [], 'b': [], 'c': [], 'd': [], 'e': []}"
      ]
     },
     "execution_count": 151,
     "metadata": {},
     "output_type": "execute_result"
    }
   ],
   "source": [
    "network_learning.responded_items"
   ]
  },
  {
   "cell_type": "markdown",
   "id": "45e5306c",
   "metadata": {},
   "source": [
    "Probabilidad de cada estado de conocimiento:"
   ]
  },
  {
   "cell_type": "code",
   "execution_count": 152,
   "id": "877bf23d",
   "metadata": {},
   "outputs": [
    {
     "name": "stdout",
     "output_type": "stream",
     "text": [
      "Probability([])=0.036148110402929826\n",
      "Probability(['a'])=0.020047230884785636\n",
      "Probability(['b'])=0.011649976781145653\n",
      "Probability(['a', 'b'])=0.14090141881614154\n",
      "Probability(['b', 'd'])=0.10072915756836243\n",
      "Probability(['a', 'b', 'c'])=0.0013343470014371972\n",
      "Probability(['a', 'b', 'd'])=0.6594923857549356\n",
      "Probability(['b', 'c', 'd'])=0.011484242716702288\n",
      "Probability(['a', 'b', 'c', 'd', 'e'])=0.018213130073559597\n"
     ]
    }
   ],
   "source": [
    "for knowledge_state, prob in zip(network_learning.K_mathcal,network_learning.prob_distribution):\n",
    "    print(f'Probability({knowledge_state})={prob}')"
   ]
  },
  {
   "cell_type": "markdown",
   "id": "b2a3c074",
   "metadata": {},
   "source": [
    "Probabilidad que el estudiante maneje cada item:"
   ]
  },
  {
   "cell_type": "code",
   "execution_count": 153,
   "id": "6b6d0f5e",
   "metadata": {},
   "outputs": [
    {
     "name": "stdout",
     "output_type": "stream",
     "text": [
      "Probability(a)=0.8399885125308596\n",
      "Probability(b)=0.9438046587122845\n",
      "Probability(c)=0.03103171979169908\n",
      "Probability(d)=0.78991891611356\n",
      "Probability(e)=0.018213130073559597\n"
     ]
    }
   ],
   "source": [
    "for item, prob in network_learning.prob_distribution_items.items():\n",
    "    print(f'Probability({item})={prob}')"
   ]
  },
  {
   "cell_type": "code",
   "execution_count": 154,
   "id": "ed6b093e",
   "metadata": {},
   "outputs": [
    {
     "data": {
      "text/plain": [
       "'d'"
      ]
     },
     "execution_count": 154,
     "metadata": {},
     "output_type": "execute_result"
    }
   ],
   "source": [
    "network_learning.next_item"
   ]
  },
  {
   "cell_type": "code",
   "execution_count": 155,
   "id": "371ea066",
   "metadata": {},
   "outputs": [],
   "source": [
    "network_learning.simulation()"
   ]
  },
  {
   "cell_type": "code",
   "execution_count": 156,
   "id": "4c3b415d",
   "metadata": {},
   "outputs": [
    {
     "data": {
      "text/plain": [
       "{'a': [], 'b': [], 'c': [], 'd': [1], 'e': []}"
      ]
     },
     "execution_count": 156,
     "metadata": {},
     "output_type": "execute_result"
    }
   ],
   "source": [
    "network_learning.responded_items"
   ]
  },
  {
   "cell_type": "code",
   "execution_count": 157,
   "id": "50f348d0",
   "metadata": {},
   "outputs": [
    {
     "name": "stdout",
     "output_type": "stream",
     "text": [
      "Probability([])=0.010727216562658331\n",
      "Probability(['a'])=0.005949162619722388\n",
      "Probability(['b'])=0.0034572159509383815\n",
      "Probability(['a', 'b'])=0.041813528197702565\n",
      "Probability(['b', 'd'])=0.11956846157273875\n",
      "Probability(['a', 'b', 'c'])=0.00039597724734708226\n",
      "Probability(['a', 'b', 'd'])=0.7828367861623006\n",
      "Probability(['b', 'c', 'd'])=0.013632132612963596\n",
      "Probability(['a', 'b', 'c', 'd', 'e'])=0.021619519073628114\n"
     ]
    }
   ],
   "source": [
    "for knowledge_state, prob in zip(network_learning.K_mathcal,network_learning.prob_distribution):\n",
    "    print(f'Probability({knowledge_state})={prob}')"
   ]
  },
  {
   "cell_type": "code",
   "execution_count": 158,
   "id": "2e3b5e67",
   "metadata": {},
   "outputs": [
    {
     "name": "stdout",
     "output_type": "stream",
     "text": [
      "Probability(a)=0.8526149733007007\n",
      "Probability(b)=0.983323620817619\n",
      "Probability(c)=0.035647628933938795\n",
      "Probability(d)=0.937656899421631\n",
      "Probability(e)=0.021619519073628114\n"
     ]
    }
   ],
   "source": [
    "for item, prob in network_learning.prob_distribution_items.items():\n",
    "    print(f'Probability({item})={prob}')"
   ]
  },
  {
   "cell_type": "code",
   "execution_count": 159,
   "id": "e258f8da",
   "metadata": {},
   "outputs": [
    {
     "data": {
      "text/plain": [
       "'a'"
      ]
     },
     "execution_count": 159,
     "metadata": {},
     "output_type": "execute_result"
    }
   ],
   "source": [
    "network_learning.next_item"
   ]
  },
  {
   "cell_type": "code",
   "execution_count": 160,
   "id": "e177bd0c",
   "metadata": {},
   "outputs": [],
   "source": [
    "network_learning.simulation()"
   ]
  },
  {
   "cell_type": "code",
   "execution_count": 161,
   "id": "44ab79d8",
   "metadata": {},
   "outputs": [
    {
     "data": {
      "text/plain": [
       "{'a': [0], 'b': [], 'c': [], 'd': [1], 'e': []}"
      ]
     },
     "execution_count": 161,
     "metadata": {},
     "output_type": "execute_result"
    }
   ],
   "source": [
    "network_learning.responded_items"
   ]
  },
  {
   "cell_type": "code",
   "execution_count": 162,
   "id": "c559d889",
   "metadata": {},
   "outputs": [
    {
     "name": "stdout",
     "output_type": "stream",
     "text": [
      "Probability([])=0.02975329549698675\n",
      "Probability(['a'])=0.004125189240617968\n",
      "Probability(['b'])=0.009589026863057466\n",
      "Probability(['a', 'b'])=0.02899378074850602\n",
      "Probability(['b', 'd'])=0.3316382911181012\n",
      "Probability(['a', 'b', 'c'])=0.0002745732777366789\n",
      "Probability(['a', 'b', 'd'])=0.5428242752569714\n",
      "Probability(['b', 'c', 'd'])=0.0378104485463192\n",
      "Probability(['a', 'b', 'c', 'd', 'e'])=0.01499111945170316\n"
     ]
    }
   ],
   "source": [
    "for knowledge_state, prob in zip(network_learning.K_mathcal,network_learning.prob_distribution):\n",
    "    print(f'Probability({knowledge_state})={prob}')"
   ]
  },
  {
   "cell_type": "code",
   "execution_count": 163,
   "id": "ab101a4c",
   "metadata": {},
   "outputs": [
    {
     "name": "stdout",
     "output_type": "stream",
     "text": [
      "Probability(a)=0.5912089379755352\n",
      "Probability(b)=0.9661215152623951\n",
      "Probability(c)=0.05307614127575904\n",
      "Probability(d)=0.9272641343730951\n",
      "Probability(e)=0.01499111945170316\n"
     ]
    }
   ],
   "source": [
    "for item, prob in network_learning.prob_distribution_items.items():\n",
    "    print(f'Probability({item})={prob}')"
   ]
  },
  {
   "cell_type": "code",
   "execution_count": 164,
   "id": "17095e90",
   "metadata": {},
   "outputs": [],
   "source": [
    "network_learning.simulation()"
   ]
  },
  {
   "cell_type": "code",
   "execution_count": 165,
   "id": "eaf24f26",
   "metadata": {},
   "outputs": [
    {
     "data": {
      "text/plain": [
       "{'a': [0, 0], 'b': [], 'c': [], 'd': [1], 'e': []}"
      ]
     },
     "execution_count": 165,
     "metadata": {},
     "output_type": "execute_result"
    }
   ],
   "source": [
    "network_learning.responded_items"
   ]
  },
  {
   "cell_type": "code",
   "execution_count": 166,
   "id": "c026cf82",
   "metadata": {},
   "outputs": [
    {
     "name": "stdout",
     "output_type": "stream",
     "text": [
      "Probability([])=0.05345607948047918\n",
      "Probability(['a'])=0.0018528741122208156\n",
      "Probability(['b'])=0.017228067465130455\n",
      "Probability(['a', 'b'])=0.0130228754684392\n",
      "Probability(['b', 'd'])=0.5958359419572502\n",
      "Probability(['a', 'b', 'c'])=0.0001233276071838333\n",
      "Probability(['a', 'b', 'd'])=0.24381549268222139\n",
      "Probability(['b', 'c', 'd'])=0.06793191506767052\n",
      "Probability(['a', 'b', 'c', 'd', 'e'])=0.006733426159404423\n"
     ]
    }
   ],
   "source": [
    "for knowledge_state, prob in zip(network_learning.K_mathcal,network_learning.prob_distribution):\n",
    "    print(f'Probability({knowledge_state})={prob}')"
   ]
  },
  {
   "cell_type": "code",
   "execution_count": 167,
   "id": "0e3f7543",
   "metadata": {},
   "outputs": [
    {
     "name": "stdout",
     "output_type": "stream",
     "text": [
      "Probability(a)=0.26554799602946966\n",
      "Probability(b)=0.9446910464073\n",
      "Probability(c)=0.07478866883425878\n",
      "Probability(d)=0.9143167758665465\n",
      "Probability(e)=0.006733426159404423\n"
     ]
    }
   ],
   "source": [
    "for item, prob in network_learning.prob_distribution_items.items():\n",
    "    print(f'Probability({item})={prob}')"
   ]
  },
  {
   "cell_type": "code",
   "execution_count": 168,
   "id": "2a2a06bc",
   "metadata": {},
   "outputs": [],
   "source": [
    "network_learning.simulation()"
   ]
  },
  {
   "cell_type": "code",
   "execution_count": 169,
   "id": "c6df8520",
   "metadata": {},
   "outputs": [
    {
     "data": {
      "text/plain": [
       "{'a': [0, 0, 0], 'b': [], 'c': [], 'd': [1], 'e': []}"
      ]
     },
     "execution_count": 169,
     "metadata": {},
     "output_type": "execute_result"
    }
   ],
   "source": [
    "network_learning.responded_items"
   ]
  },
  {
   "cell_type": "code",
   "execution_count": 170,
   "id": "cdceeaa4",
   "metadata": {},
   "outputs": [
    {
     "name": "stdout",
     "output_type": "stream",
     "text": [
      "Probability([])=0.06675009494006189\n",
      "Probability(['a'])=0.0005784165435658584\n",
      "Probability(['b'])=0.021512522992846703\n",
      "Probability(['a', 'b'])=0.004065384996239567\n",
      "Probability(['b', 'd'])=0.7440146393240722\n",
      "Probability(['a', 'b', 'c'])=3.8499500750226636e-05\n",
      "Probability(['a', 'b', 'd'])=0.07611251817643752\n",
      "Probability(['b', 'c', 'd'])=0.08482593232231143\n",
      "Probability(['a', 'b', 'c', 'd', 'e'])=0.0021019912037145926\n"
     ]
    }
   ],
   "source": [
    "for knowledge_state, prob in zip(network_learning.K_mathcal,network_learning.prob_distribution):\n",
    "    print(f'Probability({knowledge_state})={prob}')"
   ]
  },
  {
   "cell_type": "code",
   "execution_count": 171,
   "id": "f0ab68ce",
   "metadata": {},
   "outputs": [
    {
     "name": "stdout",
     "output_type": "stream",
     "text": [
      "Probability(a)=0.08289681042070778\n",
      "Probability(b)=0.9326714885163722\n",
      "Probability(c)=0.08696642302677626\n",
      "Probability(d)=0.9070550810265356\n",
      "Probability(e)=0.0021019912037145926\n"
     ]
    }
   ],
   "source": [
    "for item, prob in network_learning.prob_distribution_items.items():\n",
    "    print(f'Probability({item})={prob}')"
   ]
  },
  {
   "cell_type": "code",
   "execution_count": 172,
   "id": "0c07062c",
   "metadata": {},
   "outputs": [],
   "source": [
    "network_learning.simulation()"
   ]
  },
  {
   "cell_type": "code",
   "execution_count": 173,
   "id": "7ee2753f",
   "metadata": {},
   "outputs": [
    {
     "data": {
      "text/plain": [
       "{'a': [0, 0, 0], 'b': [], 'c': [], 'd': [1, 1], 'e': []}"
      ]
     },
     "execution_count": 173,
     "metadata": {},
     "output_type": "execute_result"
    }
   ],
   "source": [
    "network_learning.responded_items"
   ]
  },
  {
   "cell_type": "code",
   "execution_count": 174,
   "id": "9a064c4a",
   "metadata": {},
   "outputs": [
    {
     "name": "stdout",
     "output_type": "stream",
     "text": [
      "Probability([])=0.01793795507044456\n",
      "Probability(['a'])=0.00015543962865974893\n",
      "Probability(['b'])=0.005781125423778039\n",
      "Probability(['a', 'b'])=0.0010925032162439224\n",
      "Probability(['b', 'd'])=0.7997652248394448\n",
      "Probability(['a', 'b', 'c'])=1.0346087377287432e-05\n",
      "Probability(['a', 'b', 'd'])=0.08181578962986057\n",
      "Probability(['b', 'c', 'd'])=0.09118211826799733\n",
      "Probability(['a', 'b', 'c', 'd', 'e'])=0.0022594978361939137\n"
     ]
    }
   ],
   "source": [
    "for knowledge_state, prob in zip(network_learning.K_mathcal,network_learning.prob_distribution):\n",
    "    print(f'Probability({knowledge_state})={prob}')"
   ]
  },
  {
   "cell_type": "code",
   "execution_count": 175,
   "id": "995573a0",
   "metadata": {},
   "outputs": [
    {
     "name": "stdout",
     "output_type": "stream",
     "text": [
      "Probability(a)=0.08533357639833544\n",
      "Probability(b)=0.9819066053008959\n",
      "Probability(c)=0.09345196219156854\n",
      "Probability(d)=0.9750226305734967\n",
      "Probability(e)=0.0022594978361939137\n"
     ]
    }
   ],
   "source": [
    "for item, prob in network_learning.prob_distribution_items.items():\n",
    "    print(f'Probability({item})={prob}')"
   ]
  },
  {
   "cell_type": "code",
   "execution_count": 176,
   "id": "5e44158b",
   "metadata": {},
   "outputs": [],
   "source": [
    "network_learning.simulation()"
   ]
  },
  {
   "cell_type": "code",
   "execution_count": 177,
   "id": "cfd0078a",
   "metadata": {},
   "outputs": [
    {
     "data": {
      "text/plain": [
       "{'a': [0, 0, 0], 'b': [], 'c': [0], 'd': [1, 1], 'e': []}"
      ]
     },
     "execution_count": 177,
     "metadata": {},
     "output_type": "execute_result"
    }
   ],
   "source": [
    "network_learning.responded_items"
   ]
  },
  {
   "cell_type": "code",
   "execution_count": 178,
   "id": "c31e6c8f",
   "metadata": {},
   "outputs": [
    {
     "name": "stdout",
     "output_type": "stream",
     "text": [
      "Probability([])=0.019289969172804653\n",
      "Probability(['a'])=0.00016715537714882063\n",
      "Probability(['b'])=0.006216858653667698\n",
      "Probability(['a', 'b'])=0.0011748470368987778\n",
      "Probability(['b', 'd'])=0.860044886501755\n",
      "Probability(['a', 'b', 'c'])=2.7814723833243465e-06\n",
      "Probability(['a', 'b', 'd'])=0.08798238448088429\n",
      "Probability(['b', 'c', 'd'])=0.02451366729921664\n",
      "Probability(['a', 'b', 'c', 'd', 'e'])=0.0006074500052407482\n"
     ]
    }
   ],
   "source": [
    "for knowledge_state, prob in zip(network_learning.K_mathcal,network_learning.prob_distribution):\n",
    "    print(f'Probability({knowledge_state})={prob}')"
   ]
  },
  {
   "cell_type": "code",
   "execution_count": 179,
   "id": "0d4dd322",
   "metadata": {},
   "outputs": [
    {
     "name": "stdout",
     "output_type": "stream",
     "text": [
      "Probability(a)=0.08993461837255595\n",
      "Probability(b)=0.9805428754500465\n",
      "Probability(c)=0.025123898776840712\n",
      "Probability(d)=0.9731483882870967\n",
      "Probability(e)=0.0006074500052407482\n"
     ]
    }
   ],
   "source": [
    "for item, prob in network_learning.prob_distribution_items.items():\n",
    "    print(f'Probability({item})={prob}')"
   ]
  },
  {
   "cell_type": "code",
   "execution_count": 180,
   "id": "3d0b8f44",
   "metadata": {},
   "outputs": [],
   "source": [
    "network_learning.simulation()"
   ]
  },
  {
   "cell_type": "code",
   "execution_count": 181,
   "id": "f1d2e4cc",
   "metadata": {},
   "outputs": [
    {
     "data": {
      "text/plain": [
       "{'a': [0, 0, 0, 0], 'b': [], 'c': [0], 'd': [1, 1], 'e': []}"
      ]
     },
     "execution_count": 181,
     "metadata": {},
     "output_type": "execute_result"
    }
   ],
   "source": [
    "network_learning.responded_items"
   ]
  },
  {
   "cell_type": "code",
   "execution_count": 182,
   "id": "ca7ce9a1",
   "metadata": {},
   "outputs": [
    {
     "name": "stdout",
     "output_type": "stream",
     "text": [
      "Probability([])=0.020685206271814586\n",
      "Probability(['a'])=4.4811417592115254e-05\n",
      "Probability(['b'])=0.00666652198672926\n",
      "Probability(['a', 'b'])=0.00031495583375973867\n",
      "Probability(['b', 'd'])=0.9222516490793112\n",
      "Probability(['a', 'b', 'c'])=7.45663840530318e-07\n",
      "Probability(['a', 'b', 'd'])=0.0235865303226996\n",
      "Probability(['b', 'c', 'd'])=0.02628673275838144\n",
      "Probability(['a', 'b', 'c', 'd', 'e'])=0.0001628466658714833\n"
     ]
    }
   ],
   "source": [
    "for knowledge_state, prob in zip(network_learning.K_mathcal,network_learning.prob_distribution):\n",
    "    print(f'Probability({knowledge_state})={prob}')"
   ]
  },
  {
   "cell_type": "markdown",
   "id": "17f1684c",
   "metadata": {},
   "source": [
    "# Example 2: response of student"
   ]
  },
  {
   "cell_type": "code",
   "execution_count": 6,
   "id": "24038894",
   "metadata": {},
   "outputs": [],
   "source": [
    "Q = ['a' , 'b' , 'c' , 'd' , 'e']\n",
    "K_mathcal = [[],['a'],['b'],['a','b'],['b','d'],['a','b','c'],['a','b','d'],['b','c','d'],Q]\n",
    "nombre = \"Paula\"\n",
    "\n",
    "QxR = []\n",
    "\n",
    "for q in Q:\n",
    "    for r in [0,1]:\n",
    "        QxR.append((q,r))\n",
    "\n",
    "Xi = {x : 4.0 for x in QxR}"
   ]
  },
  {
   "cell_type": "code",
   "execution_count": 10,
   "id": "a542854f",
   "metadata": {},
   "outputs": [],
   "source": [
    "Paula =  knowledge_learning_space(Q,K_mathcal,Xi,student_name = nombre)"
   ]
  },
  {
   "cell_type": "code",
   "execution_count": 11,
   "id": "5a9951b4",
   "metadata": {},
   "outputs": [
    {
     "data": {
      "text/plain": [
       "{'a': [], 'b': [], 'c': [], 'd': [], 'e': []}"
      ]
     },
     "execution_count": 11,
     "metadata": {},
     "output_type": "execute_result"
    }
   ],
   "source": [
    "Paula.responded_items"
   ]
  },
  {
   "cell_type": "markdown",
   "id": "e0e3603d",
   "metadata": {},
   "source": [
    "Asumimos que Paula sabe responder correctamente a los items a y b"
   ]
  },
  {
   "cell_type": "code",
   "execution_count": 13,
   "id": "28917be0",
   "metadata": {},
   "outputs": [
    {
     "name": "stdout",
     "output_type": "stream",
     "text": [
      "Probability([])=0.1111111111111111\n",
      "Probability(['a'])=0.1111111111111111\n",
      "Probability(['b'])=0.1111111111111111\n",
      "Probability(['a', 'b'])=0.1111111111111111\n",
      "Probability(['b', 'd'])=0.1111111111111111\n",
      "Probability(['a', 'b', 'c'])=0.1111111111111111\n",
      "Probability(['a', 'b', 'd'])=0.1111111111111111\n",
      "Probability(['b', 'c', 'd'])=0.1111111111111111\n",
      "Probability(['a', 'b', 'c', 'd', 'e'])=0.1111111111111111\n"
     ]
    }
   ],
   "source": [
    "for knowledge_state, prob in zip(Paula.K_mathcal,Paula.prob_distribution):\n",
    "    print(f'Probability({knowledge_state})={prob}')"
   ]
  },
  {
   "cell_type": "code",
   "execution_count": 14,
   "id": "785809c9",
   "metadata": {},
   "outputs": [
    {
     "name": "stdout",
     "output_type": "stream",
     "text": [
      "Probability(a)=0.5555555555555556\n",
      "Probability(b)=0.7777777777777779\n",
      "Probability(c)=0.3333333333333333\n",
      "Probability(d)=0.4444444444444444\n",
      "Probability(e)=0.1111111111111111\n"
     ]
    }
   ],
   "source": [
    "for item, prob in Paula.prob_distribution_items.items():\n",
    "    print(f'Probability({item})={prob}')"
   ]
  },
  {
   "cell_type": "code",
   "execution_count": 15,
   "id": "91493754",
   "metadata": {},
   "outputs": [
    {
     "data": {
      "text/plain": [
       "'a'"
      ]
     },
     "execution_count": 15,
     "metadata": {},
     "output_type": "execute_result"
    }
   ],
   "source": [
    "Paula.next_item"
   ]
  },
  {
   "cell_type": "code",
   "execution_count": 16,
   "id": "95d00661",
   "metadata": {},
   "outputs": [],
   "source": [
    "Paula.response_item(1)"
   ]
  },
  {
   "cell_type": "code",
   "execution_count": 17,
   "id": "091365dc",
   "metadata": {},
   "outputs": [
    {
     "data": {
      "text/plain": [
       "{'a': [1], 'b': [], 'c': [], 'd': [], 'e': []}"
      ]
     },
     "execution_count": 17,
     "metadata": {},
     "output_type": "execute_result"
    }
   ],
   "source": [
    "Paula.responded_items"
   ]
  },
  {
   "cell_type": "code",
   "execution_count": 18,
   "id": "a85c2600",
   "metadata": {},
   "outputs": [
    {
     "name": "stdout",
     "output_type": "stream",
     "text": [
      "Probability([])=0.04166666666666666\n",
      "Probability(['a'])=0.16666666666666663\n",
      "Probability(['b'])=0.04166666666666666\n",
      "Probability(['a', 'b'])=0.16666666666666663\n",
      "Probability(['b', 'd'])=0.04166666666666666\n",
      "Probability(['a', 'b', 'c'])=0.16666666666666663\n",
      "Probability(['a', 'b', 'd'])=0.16666666666666663\n",
      "Probability(['b', 'c', 'd'])=0.04166666666666666\n",
      "Probability(['a', 'b', 'c', 'd', 'e'])=0.16666666666666663\n"
     ]
    }
   ],
   "source": [
    "for knowledge_state, prob in zip(Paula.K_mathcal,Paula.prob_distribution):\n",
    "    print(f'Probability({knowledge_state})={prob}')"
   ]
  },
  {
   "cell_type": "code",
   "execution_count": 19,
   "id": "cf2d5f48",
   "metadata": {},
   "outputs": [
    {
     "name": "stdout",
     "output_type": "stream",
     "text": [
      "Probability(a)=0.8333333333333331\n",
      "Probability(b)=0.7916666666666665\n",
      "Probability(c)=0.3749999999999999\n",
      "Probability(d)=0.4166666666666666\n",
      "Probability(e)=0.16666666666666663\n"
     ]
    }
   ],
   "source": [
    "for item, prob in Paula.prob_distribution_items.items():\n",
    "    print(f'Probability({item})={prob}')"
   ]
  },
  {
   "cell_type": "code",
   "execution_count": 20,
   "id": "0b221c55",
   "metadata": {},
   "outputs": [
    {
     "data": {
      "text/plain": [
       "'d'"
      ]
     },
     "execution_count": 20,
     "metadata": {},
     "output_type": "execute_result"
    }
   ],
   "source": [
    "Paula.next_item"
   ]
  },
  {
   "cell_type": "code",
   "execution_count": 21,
   "id": "483dc0c9",
   "metadata": {},
   "outputs": [],
   "source": [
    "Paula.response_item(0)"
   ]
  },
  {
   "cell_type": "code",
   "execution_count": 22,
   "id": "b6ff84cc",
   "metadata": {},
   "outputs": [
    {
     "data": {
      "text/plain": [
       "{'a': [1], 'b': [], 'c': [], 'd': [0], 'e': []}"
      ]
     },
     "execution_count": 22,
     "metadata": {},
     "output_type": "execute_result"
    }
   ],
   "source": [
    "Paula.responded_items"
   ]
  },
  {
   "cell_type": "code",
   "execution_count": 23,
   "id": "806f9c26",
   "metadata": {},
   "outputs": [
    {
     "name": "stdout",
     "output_type": "stream",
     "text": [
      "Probability([])=0.060606060606060615\n",
      "Probability(['a'])=0.24242424242424246\n",
      "Probability(['b'])=0.060606060606060615\n",
      "Probability(['a', 'b'])=0.24242424242424246\n",
      "Probability(['b', 'd'])=0.015151515151515154\n",
      "Probability(['a', 'b', 'c'])=0.24242424242424246\n",
      "Probability(['a', 'b', 'd'])=0.060606060606060615\n",
      "Probability(['b', 'c', 'd'])=0.015151515151515154\n",
      "Probability(['a', 'b', 'c', 'd', 'e'])=0.060606060606060615\n"
     ]
    }
   ],
   "source": [
    "for knowledge_state, prob in zip(Paula.K_mathcal,Paula.prob_distribution):\n",
    "    print(f'Probability({knowledge_state})={prob}')"
   ]
  },
  {
   "cell_type": "code",
   "execution_count": 24,
   "id": "f451ae4b",
   "metadata": {},
   "outputs": [
    {
     "name": "stdout",
     "output_type": "stream",
     "text": [
      "Probability(a)=0.8484848484848487\n",
      "Probability(b)=0.6969696969696971\n",
      "Probability(c)=0.31818181818181823\n",
      "Probability(d)=0.15151515151515155\n",
      "Probability(e)=0.060606060606060615\n"
     ]
    }
   ],
   "source": [
    "for item, prob in Paula.prob_distribution_items.items():\n",
    "    print(f'Probability({item})={prob}')"
   ]
  },
  {
   "cell_type": "code",
   "execution_count": 25,
   "id": "8e23eaa3",
   "metadata": {},
   "outputs": [
    {
     "data": {
      "text/plain": [
       "'c'"
      ]
     },
     "execution_count": 25,
     "metadata": {},
     "output_type": "execute_result"
    }
   ],
   "source": [
    "Paula.next_item"
   ]
  },
  {
   "cell_type": "code",
   "execution_count": 26,
   "id": "a58a5b75",
   "metadata": {},
   "outputs": [],
   "source": [
    "Paula.response_item(0)"
   ]
  },
  {
   "cell_type": "code",
   "execution_count": 27,
   "id": "a6be40b1",
   "metadata": {},
   "outputs": [
    {
     "data": {
      "text/plain": [
       "{'a': [1], 'b': [], 'c': [0], 'd': [0], 'e': []}"
      ]
     },
     "execution_count": 27,
     "metadata": {},
     "output_type": "execute_result"
    }
   ],
   "source": [
    "Paula.responded_items"
   ]
  },
  {
   "cell_type": "code",
   "execution_count": 28,
   "id": "83a5f9f3",
   "metadata": {},
   "outputs": [
    {
     "name": "stdout",
     "output_type": "stream",
     "text": [
      "Probability([])=0.07960199004975124\n",
      "Probability(['a'])=0.31840796019900497\n",
      "Probability(['b'])=0.07960199004975124\n",
      "Probability(['a', 'b'])=0.31840796019900497\n",
      "Probability(['b', 'd'])=0.01990049751243781\n",
      "Probability(['a', 'b', 'c'])=0.07960199004975124\n",
      "Probability(['a', 'b', 'd'])=0.07960199004975124\n",
      "Probability(['b', 'c', 'd'])=0.004975124378109453\n",
      "Probability(['a', 'b', 'c', 'd', 'e'])=0.01990049751243781\n"
     ]
    }
   ],
   "source": [
    "for knowledge_state, prob in zip(Paula.K_mathcal,Paula.prob_distribution):\n",
    "    print(f'Probability({knowledge_state})={prob}')"
   ]
  },
  {
   "cell_type": "code",
   "execution_count": 29,
   "id": "720c163f",
   "metadata": {},
   "outputs": [
    {
     "name": "stdout",
     "output_type": "stream",
     "text": [
      "Probability(a)=0.8159203980099502\n",
      "Probability(b)=0.6019900497512437\n",
      "Probability(c)=0.1044776119402985\n",
      "Probability(d)=0.12437810945273631\n",
      "Probability(e)=0.01990049751243781\n"
     ]
    }
   ],
   "source": [
    "for item, prob in Paula.prob_distribution_items.items():\n",
    "    print(f'Probability({item})={prob}')"
   ]
  },
  {
   "cell_type": "code",
   "execution_count": 30,
   "id": "ba630e1e",
   "metadata": {},
   "outputs": [],
   "source": [
    "Paula.response_item(1)"
   ]
  },
  {
   "cell_type": "code",
   "execution_count": 31,
   "id": "7be7942d",
   "metadata": {},
   "outputs": [
    {
     "data": {
      "text/plain": [
       "{'a': [1], 'b': [1], 'c': [0], 'd': [0], 'e': []}"
      ]
     },
     "execution_count": 31,
     "metadata": {},
     "output_type": "execute_result"
    }
   ],
   "source": [
    "Paula.responded_items"
   ]
  },
  {
   "cell_type": "code",
   "execution_count": 32,
   "id": "1b7a8686",
   "metadata": {},
   "outputs": [
    {
     "name": "stdout",
     "output_type": "stream",
     "text": [
      "Probability([])=0.028368794326241138\n",
      "Probability(['a'])=0.11347517730496455\n",
      "Probability(['b'])=0.11347517730496455\n",
      "Probability(['a', 'b'])=0.4539007092198582\n",
      "Probability(['b', 'd'])=0.028368794326241138\n",
      "Probability(['a', 'b', 'c'])=0.11347517730496455\n",
      "Probability(['a', 'b', 'd'])=0.11347517730496455\n",
      "Probability(['b', 'c', 'd'])=0.007092198581560284\n",
      "Probability(['a', 'b', 'c', 'd', 'e'])=0.028368794326241138\n"
     ]
    }
   ],
   "source": [
    "for knowledge_state, prob in zip(Paula.K_mathcal,Paula.prob_distribution):\n",
    "    print(f'Probability({knowledge_state})={prob}')"
   ]
  },
  {
   "cell_type": "code",
   "execution_count": 33,
   "id": "c96afc1a",
   "metadata": {},
   "outputs": [
    {
     "name": "stdout",
     "output_type": "stream",
     "text": [
      "Probability(a)=0.8226950354609931\n",
      "Probability(b)=0.8581560283687946\n",
      "Probability(c)=0.14893617021276598\n",
      "Probability(d)=0.17730496453900713\n",
      "Probability(e)=0.028368794326241138\n"
     ]
    }
   ],
   "source": [
    "for item, prob in Paula.prob_distribution_items.items():\n",
    "    print(f'Probability({item})={prob}')"
   ]
  },
  {
   "cell_type": "code",
   "execution_count": 34,
   "id": "e90c73b2",
   "metadata": {},
   "outputs": [
    {
     "data": {
      "text/plain": [
       "'d'"
      ]
     },
     "execution_count": 34,
     "metadata": {},
     "output_type": "execute_result"
    }
   ],
   "source": [
    "Paula.next_item"
   ]
  },
  {
   "cell_type": "code",
   "execution_count": 35,
   "id": "981fc11c",
   "metadata": {},
   "outputs": [],
   "source": [
    "Paula.response_item(0)"
   ]
  },
  {
   "cell_type": "code",
   "execution_count": 36,
   "id": "2c001915",
   "metadata": {},
   "outputs": [
    {
     "name": "stdout",
     "output_type": "stream",
     "text": [
      "Probability([])=0.032719836400818\n",
      "Probability(['a'])=0.130879345603272\n",
      "Probability(['b'])=0.130879345603272\n",
      "Probability(['a', 'b'])=0.523517382413088\n",
      "Probability(['b', 'd'])=0.0081799591002045\n",
      "Probability(['a', 'b', 'c'])=0.130879345603272\n",
      "Probability(['a', 'b', 'd'])=0.032719836400818\n",
      "Probability(['b', 'c', 'd'])=0.002044989775051125\n",
      "Probability(['a', 'b', 'c', 'd', 'e'])=0.0081799591002045\n"
     ]
    }
   ],
   "source": [
    "for knowledge_state, prob in zip(Paula.K_mathcal,Paula.prob_distribution):\n",
    "    print(f'Probability({knowledge_state})={prob}')"
   ]
  },
  {
   "cell_type": "code",
   "execution_count": 37,
   "id": "20469435",
   "metadata": {},
   "outputs": [
    {
     "name": "stdout",
     "output_type": "stream",
     "text": [
      "Probability(a)=0.8261758691206544\n",
      "Probability(b)=0.83640081799591\n",
      "Probability(c)=0.14110429447852763\n",
      "Probability(d)=0.05112474437627812\n",
      "Probability(e)=0.0081799591002045\n"
     ]
    }
   ],
   "source": [
    "for item, prob in Paula.prob_distribution_items.items():\n",
    "    print(f'Probability({item})={prob}')"
   ]
  },
  {
   "cell_type": "code",
   "execution_count": null,
   "id": "3dc21d1d",
   "metadata": {},
   "outputs": [],
   "source": []
  }
 ],
 "metadata": {
  "kernelspec": {
   "display_name": "Python 3 (ipykernel)",
   "language": "python",
   "name": "python3"
  },
  "language_info": {
   "codemirror_mode": {
    "name": "ipython",
    "version": 3
   },
   "file_extension": ".py",
   "mimetype": "text/x-python",
   "name": "python",
   "nbconvert_exporter": "python",
   "pygments_lexer": "ipython3",
   "version": "3.9.12"
  }
 },
 "nbformat": 4,
 "nbformat_minor": 5
}
